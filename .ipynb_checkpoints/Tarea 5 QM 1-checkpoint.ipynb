{
 "cells": [
  {
   "cell_type": "markdown",
   "metadata": {},
   "source": [
    "ESAI\n",
    "## María Sofía Álvarez López - 201729031"
   ]
  },
  {
   "cell_type": "code",
   "execution_count": 1,
   "metadata": {},
   "outputs": [],
   "source": [
    "import numpy as np\n",
    "import matplotlib.pyplot as plt\n",
    "from scipy.optimize import fsolve"
   ]
  },
  {
   "cell_type": "markdown",
   "metadata": {},
   "source": [
    "<div align=\"center\"><h1>Tarea 5: Mecánica Cuántica 1</h1></div>"
   ]
  },
  {
   "cell_type": "markdown",
   "metadata": {},
   "source": [
    "### Punto 1"
   ]
  },
  {
   "cell_type": "markdown",
   "metadata": {},
   "source": [
    "### Solución a la ecuación trascendental \n",
    "$$\\tan(z) = \\frac{-1}{\\sqrt{\\frac{z_0^2}{z^2} - 1}}$$"
   ]
  },
  {
   "cell_type": "markdown",
   "metadata": {},
   "source": [
    "Primero, solucionemos gráficamente la ecuación. Graficamos la función $\\tan(z)$ en los rangos $(\\frac{\\pi}{2}, \\frac{3\\pi}{2})$, $(\\frac{3\\pi}{2}, \\frac{5\\pi}{2})$ y $(\\frac{5\\pi}{2}, \\frac{7\\pi}{2})$"
   ]
  },
  {
   "cell_type": "code",
   "execution_count": 2,
   "metadata": {},
   "outputs": [],
   "source": [
    "def tan(z_min, z_max):\n",
    "    #Para evitar problemas con las discontinuidades\n",
    "    z = np.arange(z_min+0.03,z_max-0.03,0.0001)\n",
    "    return z, np.tan(z)"
   ]
  },
  {
   "cell_type": "code",
   "execution_count": 3,
   "metadata": {},
   "outputs": [],
   "source": [
    "z_1, tan_1 = tan(np.pi/2, 3*np.pi/2)\n",
    "z_2, tan_2 = tan(3*np.pi/2, 5*np.pi/2)\n",
    "z_3, tan_3 = tan(5*np.pi/2, 7*np.pi/2)"
   ]
  },
  {
   "cell_type": "markdown",
   "metadata": {},
   "source": [
    "Definimos ahora el lado derecho de la ecuación,"
   ]
  },
  {
   "cell_type": "code",
   "execution_count": 4,
   "metadata": {},
   "outputs": [],
   "source": [
    "def sqrt(z, z_0):\n",
    "    return -1/np.sqrt((z_0**2/z**2) - 1)"
   ]
  },
  {
   "cell_type": "markdown",
   "metadata": {},
   "source": [
    "Graficamos todo: las tangentes y la raíz, usando, para la raíz. Note que las soluciones a la ecuación están dadas por los puntos de intersección entre ambas gráficas. Según lo escrito en la tarea, sabemos que la primera asíntota de $\\tan(z)$ ocurre en $z=\\frac{\\pi}{2}$ mientras que, la de la raíz, ocurre claramente en $z=z_0$. Ahora, las intersecciones entre las gráficas corresponden a los estados ligados del sistema. Por tanto, si no hay intersecciones, significa que no hay estados ligados. Por esta razón, necesitamos ver dos casos particulares para $z_0$: $z_0$ < $\\frac{\\pi}{2}$ y $z_0$ > $\\frac{\\pi}{2}$. "
   ]
  },
  {
   "cell_type": "markdown",
   "metadata": {},
   "source": [
    "En este caso, tomaré $z_0 = 9$."
   ]
  },
  {
   "cell_type": "code",
   "execution_count": 5,
   "metadata": {},
   "outputs": [
    {
     "name": "stdout",
     "output_type": "stream",
     "text": [
      "Escriba un valor para z_0: 9\n"
     ]
    }
   ],
   "source": [
    "z_0 = float(input('Escriba un valor para z_0: '))\n",
    "z = np.arange(0.01,z_0 - 0.01,0.0001)"
   ]
  },
  {
   "cell_type": "markdown",
   "metadata": {},
   "source": [
    "Podemos encontrar numéricamente las raíces de esta ecuación usando el método de Newton-Raphson. No obstante por simplicidad, en este caso utilizaré la librería <code>fsolve</code> de <code>scipy</code>. Para esto, debemos tomar la ecuación descrita al inicio e igualarla a 0, tal que nos quedará:\n",
    "$$\\tan(z) + \\frac{1}{\\sqrt{\\frac{z_0^2}{z^2} - 1}} = 0$$"
   ]
  },
  {
   "cell_type": "code",
   "execution_count": 6,
   "metadata": {},
   "outputs": [],
   "source": [
    "def f(z, z_0):\n",
    "    return np.tan(z) + 1/np.sqrt((z_0**2/z**2) - 1)"
   ]
  },
  {
   "cell_type": "markdown",
   "metadata": {},
   "source": [
    "Solucionamos numéricamente usando <code>scipy</code>:"
   ]
  },
  {
   "cell_type": "code",
   "execution_count": 7,
   "metadata": {},
   "outputs": [
    {
     "name": "stdout",
     "output_type": "stream",
     "text": [
      "[2.82258866 5.61016373]\n"
     ]
    }
   ],
   "source": [
    "inter_1 = fsolve(f, x0 = [2,3], args=(z_0))\n",
    "inter_2 = fsolve(f, x0 = [4,6], args=(z_0))\n",
    "inter_3 = fsolve(f, x0 = [6, z_0-0.1], args=(z_0))\n",
    "\n",
    "print(inter_2)"
   ]
  },
  {
   "cell_type": "code",
   "execution_count": 8,
   "metadata": {},
   "outputs": [
    {
     "data": {
      "text/plain": [
       "Text(0.5, 0.98, 'Solución gráfica a la ecuación trascendental $\\\\tan(z)= \\\\frac{-1}{\\\\sqrt{z_0^2/z^2 -1}}$')"
      ]
     },
     "execution_count": 8,
     "metadata": {},
     "output_type": "execute_result"
    },
    {
     "data": {
      "image/png": "[encoded data removed]",
      "text/plain": [
       "<Figure size 576x576 with 1 Axes>"
      ]
     },
     "metadata": {
      "needs_background": "light"
     },
     "output_type": "display_data"
    }
   ],
   "source": [
    "plt.figure(figsize=(8,8))\n",
    "ax = plt.gca()\n",
    "ax.spines['right'].set_visible(False)\n",
    "ax.spines['top'].set_visible(False)\n",
    "#plt.plot(tiempo, temperaturas, '.')\n",
    "ax.plot(z_1, tan_1, color=\"pink\")\n",
    "ax.plot(z, sqrt(z,z_0), color=\"darkviolet\")\n",
    "ax.plot(z_2, tan_2, color=\"turquoise\")\n",
    "ax.plot(z_3, tan_3, color=\"palegreen\")\n",
    "\n",
    "plt.scatter(inter_1, np.tan(inter_1), c='k')\n",
    "plt.scatter(inter_2, np.tan(inter_2), c='k')\n",
    "plt.scatter(inter_3, np.tan(inter_3), c='k')\n",
    "\n",
    "plt.title('')\n",
    "#plt.xlabel(r'Tiempo [s]')\n",
    "#plt.ylabel(r'Temperatura [ºC]')\n",
    "plt.suptitle(r'Solución gráfica a la ecuación trascendental $\\tan(z)= \\frac{-1}{\\sqrt{z_0^2/z^2 -1}}$')\n"
   ]
  },
  {
   "cell_type": "markdown",
   "metadata": {},
   "source": [
    "Note que tenemos tres intersecciones; razón por la cual, para este valor de $z_0$, tendremos 3 estados ligados. No obstante, según mencionamos aquí previamente (y también en la tarea), nos interesa estudiar el caso en que $z_0 < \\frac{\\pi}{2}$. Lo que esperamos es que, aquí, las gráficas nunca se intersecten y, por tanto, no haya estados ligados. Es decir, no hay estados ligados siempre que $z_0 < \\frac{\\pi}{2}$. Tomemos $z_0 = 1.5$ y grafiquemos únicamente $\\tan(z)$ con $z \\in (\\frac{\\pi}{2}, \\frac{3\\pi}{2})."
   ]
  },
  {
   "cell_type": "code",
   "execution_count": 9,
   "metadata": {},
   "outputs": [],
   "source": [
    "z_0 = 1.5\n",
    "z = np.arange(0.01,z_0 - 0.0005,0.0001)"
   ]
  },
  {
   "cell_type": "code",
   "execution_count": 10,
   "metadata": {},
   "outputs": [
    {
     "data": {
      "text/plain": [
       "Text(0.5, 0.98, 'Ausencia de estados ligados para $z_0 =$1.5')"
      ]
     },
     "execution_count": 10,
     "metadata": {},
     "output_type": "execute_result"
    },
    {
     "data": {
      "image/png": "[encoded data removed]",
      "text/plain": [
       "<Figure size 576x576 with 1 Axes>"
      ]
     },
     "metadata": {
      "needs_background": "light"
     },
     "output_type": "display_data"
    }
   ],
   "source": [
    "plt.figure(figsize=(8,8))\n",
    "ax = plt.gca()\n",
    "ax.spines['right'].set_visible(False)\n",
    "ax.spines['top'].set_visible(False)\n",
    "#plt.plot(tiempo, temperaturas, '.')\n",
    "ax.plot(z_1, tan_1, color=\"pink\")\n",
    "ax.plot(z, sqrt(z,z_0), color=\"darkviolet\")\n",
    "\n",
    "plt.title('')\n",
    "#plt.xlabel(r'Tiempo [s]')\n",
    "#plt.ylabel(r'Temperatura [ºC]')\n",
    "plt.suptitle(r'Ausencia de estados ligados para $z_0 =${}'.format(z_0))\n"
   ]
  },
  {
   "cell_type": "markdown",
   "metadata": {},
   "source": [
    "Note que estas dos gráficas tienden asintóticamente a $-\\infty$, razón por la cual nunca se intersectarán. Por tanto, demostramos gráfica y numéricamente que no hay estados ligados cuando \n",
    "$$z_0 < \\frac{\\pi}{2}$$\n",
    "\n",
    "$$a \\sqrt{\\frac{2mV_0}{\\hbar^2}} < \\frac{\\pi}{2}$$\n",
    "$$V_0 a^2 < \\frac{\\pi^2 \\hbar^2}{8m}$$, como podemos ver en el documento principal de la tarea, q.e.d"
   ]
  },
  {
   "cell_type": "code",
   "execution_count": null,
   "metadata": {},
   "outputs": [],
   "source": []
  }
 ],
 "metadata": {
  "kernelspec": {
   "display_name": "Python 3",
   "language": "python",
   "name": "python3"
  },
  "language_info": {
   "codemirror_mode": {
    "name": "ipython",
    "version": 3
   },
   "file_extension": ".py",
   "mimetype": "text/x-python",
   "name": "python",
   "nbconvert_exporter": "python",
   "pygments_lexer": "ipython3",
   "version": "3.8.3"
  }
 },
 "nbformat": 4,
 "nbformat_minor": 4
}
